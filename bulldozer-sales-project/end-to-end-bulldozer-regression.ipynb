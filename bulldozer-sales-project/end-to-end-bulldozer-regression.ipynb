{
 "cells": [
  {
   "cell_type": "markdown",
   "id": "c9d7b7fc",
   "metadata": {},
   "source": [
    "# Predicting the sales price of bulldozers using Machine Learning \n",
    "\n",
    "This notebook goes through an example machine learning project with the goal of predicting the sales price of bulldozers. \n",
    "\n",
    "## 1. Problem definition\n",
    "\n",
    "> How well can the future sales price of a bulldozer be predicted given its characteristics and previous examples of how much similar bulldozers have been sold for?\n",
    "\n",
    "## 2. Data \n",
    "\n",
    "The data is downladed from the kaggle bluebook for bulldozers competition: https://www.kaggle.com/competitions/bluebook-for-bulldozers/data\n",
    "\n",
    "There are 3 main datasets:\n",
    "\n",
    "* Train.csv is the training set, which contains data through the end of 2011.\n",
    "* Valid.csv is the validation set, which contains data from January 1, 2012 - April 30, 2012 You make predictions on this set throughout the majority of the competition. Your score on this set is used to create the public leaderboard.\n",
    "* Test.csv is the test set, which won't be released until the last week of the competition. It contains data from May 1, 2012 - November 2012. Your score on the test set determines your final rank for the competition.\n",
    " \n",
    "## 3. Evaluation\n",
    "\n",
    "The evaluation metric for this competition is the RMSLE (root mean squared log error) between the actual and predicted auction prices.\n",
    "\n",
    "For more on the evaluation of this project check:\n",
    "https://www.kaggle.com/competitions/bluebook-for-bulldozers/overview/evaluation\n",
    "\n",
    "note; The goal for most regression evaluation metrics is to minimize the error.  For this project the goal will be to build a machine learning model that minimizes RMSLE. \n",
    "\n",
    "## 4. Features \n",
    "\n",
    "Kaggle provides a data. dictionary detailing all of the features of the dataset. \n"
   ]
  },
  {
   "cell_type": "code",
   "execution_count": 1,
   "id": "f9cac7b3",
   "metadata": {},
   "outputs": [],
   "source": [
    "import numpy as np\n",
    "import pandas as pd\n",
    "import matplotlib.pyplot as plt\n",
    "import sklearn "
   ]
  },
  {
   "cell_type": "code",
   "execution_count": null,
   "id": "62e188b9",
   "metadata": {},
   "outputs": [],
   "source": []
  }
 ],
 "metadata": {
  "kernelspec": {
   "display_name": "Python 3 (ipykernel)",
   "language": "python",
   "name": "python3"
  },
  "language_info": {
   "codemirror_mode": {
    "name": "ipython",
    "version": 3
   },
   "file_extension": ".py",
   "mimetype": "text/x-python",
   "name": "python",
   "nbconvert_exporter": "python",
   "pygments_lexer": "ipython3",
   "version": "3.10.9"
  }
 },
 "nbformat": 4,
 "nbformat_minor": 5
}
